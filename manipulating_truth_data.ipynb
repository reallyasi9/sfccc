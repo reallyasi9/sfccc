{
 "cells": [
  {
   "cell_type": "code",
   "execution_count": null,
   "metadata": {
    "collapsed": true
   },
   "outputs": [],
   "source": [
    "%matplotlib inline\n",
    "\n",
    "import pandas\n",
    "import matplotlib.pyplot"
   ]
  },
  {
   "cell_type": "code",
   "execution_count": null,
   "metadata": {
    "collapsed": false
   },
   "outputs": [],
   "source": [
    "truth_df = pandas.DataFrame.from_csv(\"raw_data/truth.csv\", index_col=None)\n",
    "# Generate \"Dates\" from \"Date\" and \"Time\"\n",
    "truth_df[\"Dates\"] = pandas.to_datetime(truth_df[\"Date\"] + \" \" + truth_df[\"Time\"])\n",
    "# Remove commas from Category field, because they are removed from the train and submission sets\n",
    "truth_df[\"Category\"] = truth_df[\"Category\"].apply(lambda x: x.replace(\",\", \"\"))\n",
    "\n",
    "train_df = pandas.DataFrame.from_csv(\"raw_data/train.csv\", index_col=None)\n",
    "train_df[\"Dates\"] = pandas.to_datetime(train_df[\"Dates\"])\n",
    "test_df = pandas.DataFrame.from_csv(\"raw_data/test.csv\", index_col=None)\n",
    "test_df[\"Dates\"] = pandas.to_datetime(test_df[\"Dates\"])"
   ]
  },
  {
   "cell_type": "code",
   "execution_count": null,
   "metadata": {
    "collapsed": false
   },
   "outputs": [],
   "source": [
    "# These are the columns from the training dataset:\n",
    "#  Dates,Category,Descript,DayOfWeek,PdDistrict,Resolution,Address,X,Y\n",
    "\n",
    "# Match with training set to make sure everything is in order.\n",
    "# Watch out for X and Y, which have precision differences between truth and train/test sets.\n",
    "fig, ax = matplotlib.pyplot.subplots(1,3)\n",
    "\n",
    "ax[0].scatter(train_df[\"X\"], train_df[\"Y\"])\n",
    "ax[1].scatter(truth_df[\"X\"], truth_df[\"Y\"])\n",
    "ax[2].scatter(test_df[\"X\"], test_df[\"Y\"])"
   ]
  },
  {
   "cell_type": "code",
   "execution_count": null,
   "metadata": {
    "collapsed": false
   },
   "outputs": [],
   "source": [
    "# Those entries at the North Pole are missing data.\n",
    "# They do appear in the test set, which kills me.\n",
    "# Here are what their addresses look like\n",
    "invalid_train_points = (train_df[\"Y\"] == 90)\n",
    "invalid_truth_points = (truth_df[\"Y\"] == 90)\n",
    "invalid_test_points = (test_df[\"Y\"] == 90)\n",
    "\n",
    "pandas.concat([train_df.loc[invalid_train_points, \"Address\"],\n",
    "               truth_df.loc[invalid_truth_points, \"Address\"],\n",
    "               test_df.loc[invalid_test_points, \"Address\"]]).unique()"
   ]
  },
  {
   "cell_type": "code",
   "execution_count": null,
   "metadata": {
    "collapsed": false
   },
   "outputs": [],
   "source": [
    "# It turns out that most of these problems are because the city's grid system\n",
    "# is busted up by Market St, and the streets on the west side of Market have\n",
    "# a different name from the connecting streets on the east side.\n",
    "#\n",
    "# And some times, it's a similar problem, only on the grid system, where one\n",
    "# road suddenly changes names.\n",
    "#\n",
    "# And some times, the streets are input wrong, so they never intersect.\n",
    "#\n",
    "# These solutions come from looking up the intersections in Google manually.\n",
    "# Sometimes I had to guess as to what the real streats were that they were talking about.\n",
    "bad_addresses = ['7THSTNORTH ST / MCALLISTER ST',\n",
    "                 'GEARY BL / AVENUE OF THE PALMS',\n",
    "       \n",
    "                 'EDDY ST / 5THSTNORTH ST', \n",
    "                 'MCALLISTER ST / 7THSTNORTH ST',\n",
    "       \n",
    "                 'FRONT ST / THE EMBARCADERONORTH ST', \n",
    "                 'OFARRELL ST / 5THSTNORTH ST',\n",
    "       \n",
    "                 '5TH ST / 5THSTNORTH ST',\n",
    "                 'STJOSEPHS AV / TERRAVISTA AV',\n",
    "       \n",
    "                 'AUSTIN ST / LARKIN ST',\n",
    "                 'ELLIS ST / 5THSTNORTH ST',\n",
    "       \n",
    "                 '5THSTNORTH ST / EDDY ST',\n",
    "                 'JENNINGS CT / PHELPS ST',\n",
    "       \n",
    "                 'INTERSTATE280 HY / GENEVA AV',\n",
    "                 'ELLICK LN / CALIFORNIA ST',\n",
    "       \n",
    "                 'BUSH ST / STGEORGE AL',\n",
    "                 'INTERSTATE280 HY / OCEAN AV',\n",
    "       \n",
    "                 'SPEAR ST / THE EMBARCADEROSOUTH ST',\n",
    "                 'BRANNAN ST / 1ST ST',\n",
    "       \n",
    "                 'ARGUELLO BL / NORTHRIDGE DR',\n",
    "                 '17TH ST / COLLINGWOOD ST',\n",
    "       \n",
    "                 'JEWETT ST / 5TH ST',\n",
    "                 'JAMES LICK FREEWAY HY / CESAR CHAVEZ ST',\n",
    "       \n",
    "                 'I-280 / CESAR CHAVEZ ST',\n",
    "                 'JAMES LICK FREEWAY HY / 4TH ST',\n",
    "       \n",
    "                 'JAMES LICK FREEWAY HY / SILVER AV',\n",
    "                 '1ST ST / BRYANT ST',\n",
    "       \n",
    "                 'LARKIN ST / AUSTIN ST',\n",
    "                 'JOHN F KENNEDY DR / CROSSOVER DR',\n",
    "       \n",
    "                 'EUCLID AV / AVENUE OF THE PALMS',\n",
    "                 'GILMAN AV / FITCH ST',\n",
    "       \n",
    "                 '1ST ST / BRANNAN ST',\n",
    "                 'JAMES LICK FREEWAY HY / BAY SHORE BL',\n",
    "       \n",
    "                 'SPEAR ST / THE EMBARCADERO SOUTH ST',\n",
    "                 'LOWER GREAT HY / MARTIN LUTHER KING JR DR',\n",
    "                 \n",
    "                 '5THSTNORTH ST / OFARRELL ST',\n",
    "                 'JAMESLICKFREEWAY HY / SILVER AV',\n",
    "                 \n",
    "                 '5THSTNORTH ST / ELLIS ST',\n",
    "                 'YOSEMITE AV / WILLIAMS AV',\n",
    "                 \n",
    "                 'BRENHAM PL / WASHINGTON ST',\n",
    "                 'AVENUE OF THE PALMS / GEARY BL',\n",
    "                 \n",
    "                 'STCHARLES AV / 19TH AV',\n",
    "                 'TURK ST / STJOSEPHS AV',\n",
    "                 \n",
    "                 'MONTGOMERY ST / THE EMBARCADERONORTH ST',\n",
    "                 'FITCH ST / DONNER AV',\n",
    "                 \n",
    "                 'AVENUE OF THE PALMS / EUCLID AV',\n",
    "                 'VANNESS AV / BEACH ST',\n",
    "                 \n",
    "                 'PERSIA AV / LAGRANDE AV',\n",
    "                 '3RD ST / ISLAISCREEK ST',\n",
    "                 \n",
    "                 'JENNINGS CT / INGALLS ST',\n",
    "                 'GENEVA AV / INTERSTATE280 HY',\n",
    "                 \n",
    "                 'CHARLES J BRENHAM PL / CLAY ST',\n",
    "                 'STELMO WY / MONTEREY BL',\n",
    "                 \n",
    "                 'I-280 / PENNSYLVANIA AV',\n",
    "                 'FLORIDA ST / ALAMEDA ST',\n",
    "                 \n",
    "                 'BRYANT ST / SPEAR ST',\n",
    "                 'PERSIA AV / LA GRANDE AV',\n",
    "                 \n",
    "                 'GREENWICH ST / THE EMBARCADERO NORTH ST',\n",
    "                 'JOHN F KENNEDY DR / MARTIN LUTHER KING JR DR',\n",
    "                 \n",
    "                 '3RD ST / JAMES LICK FREEWAY HY'\n",
    "                ]\n",
    "\n",
    "solution_latlon = [(37.781002, -122.413187), # 7th -> Charles J. Brenham Pl\n",
    "                   (37.781391, -122.457743), # Avenue of the Palms -> Palm Ave (Avenue of the Palms is on Treasure Island)\n",
    "                   \n",
    "                   (37.784466, -122.408574), # 5th -> Cyril Magnin St\n",
    "                   (37.781002, -122.413187), # 7th -> Charles J. Brenham Pl\n",
    "                   \n",
    "                   (37.801544, -122.400441), # The Embarcadero -> Union St (Front St ends before intersecting TE)\n",
    "                   (37.786336, -122.408949), # 5th -> Cyril Magnin St\n",
    "                   \n",
    "                   (37.784010, -122.408097), # Best guess: Market St?\n",
    "                   (37.781236, -122.441349), # Terra Vista Ave -> Ellis St\n",
    "                   \n",
    "                   (37.789378, -122.418782), # Austin St -> Frank Norris St\n",
    "                   (37.785413, -122.408753), # 5th -> Cyril Magnin St\n",
    "                   \n",
    "                   (37.784466, -122.408574), # 5th -> Cyril Magnin St\n",
    "                   (37.717177, -122.397460), # Jennings Ct is nowhere near Phelps Ave, and Jennings St is parallel to Phelps?\n",
    "                   \n",
    "                   (37.721288, -122.448127), # No changes\n",
    "                   (37.793165, -122.400530), # Ellick Ln doesn't exist?  This is in the middle of California St by Halleck St\n",
    "                   \n",
    "                   (37.790727, -122.404352), # No changes\n",
    "                   (37.722981, -122.447773), # No changes\n",
    "                   \n",
    "                   (37.787690, -122.387976), # Spear St is a pedestrian walkway at the intersection\n",
    "                   (37.783652, -122.389865), # 1st -> Delancey St\n",
    "                   \n",
    "                   (37.773227, -122.459070), # No idea.  Northridge Dr doesn't exist.  I put this in the park?\n",
    "                   (37.762138, -122.436218), # 17th -> Market St (Collingwood ends at Market)\n",
    "                   \n",
    "                   (37.784005, -122.408090), # No idea.  Jewett is not actually a street.  I put this at Market?\n",
    "                   (37.749387, -122.403732), # No changes\n",
    "                   \n",
    "                   (37.750103, -122.391998), # No changes\n",
    "                   (37.780262, -122.398896), # No changes\n",
    "                   \n",
    "                   (37.732664, -122.405247), # No changes\n",
    "                   (37.784950, -122.391289), # Approximate (1st ends before intersecting Bryant)\n",
    "                   \n",
    "                   (37.789378, -122.418782), # Austin St -> Frank Norris St\n",
    "                   (37.770716, -122.479205), # No changes\n",
    "                   \n",
    "                   (37.783870, -122.457922), # Avenue of the Palms -> Palm Ave (Avenue of the Palms is on Treasure Island)\n",
    "                   (37.717177, -122.386260), # No changes\n",
    "                   \n",
    "                   (37.783652, -122.389865), # 1st -> Delancey St\n",
    "                   (37.715933, -122.398576), # No changes\n",
    "                   \n",
    "                   (37.787690, -122.387976), # Spear St is a pedestrian walkway at the intersection\n",
    "                   (37.764097, -122.509411), # Great Hwy -> La Playa St\n",
    "                   \n",
    "                   (37.786336, -122.408949), # 5th -> Cyril Magnin St\n",
    "                   (37.732664, -122.405247), # No changes\n",
    "                   \n",
    "                   (37.785413, -122.408753), # 5th -> Cyril Magnin St\n",
    "                   (37.729587, -122.394912), # Yosemite -> Mendell\n",
    "                   \n",
    "                   (37.793917, -122.416326), # No idea (Brenham does not intersect Washington.  Brenham -> Leavenworth?)\n",
    "                   (37.781391, -122.457743), # Avenue of the Palms -> Palm Ave (Avenue of the Palms is on Treasure Island)\n",
    "                   \n",
    "                   (37.713785, -122.469331), # St. Chalres becomes 19th\n",
    "                   (37.779396, -122.440936), # No changes\n",
    "                   \n",
    "                   (37.806569, -122.405870), # Montgomery becomes a pedestrian walkway at the intersection\n",
    "                   (37.719108, -122.384525), # Approximate (Donner ends before Fitch)\n",
    "                   \n",
    "                   (37.783870, -122.457922), # Avenue of the Palms -> Palm Ave (Avenue of the Palms is on Treasure Island)\n",
    "                   (37.806036, -122.425514), # Beech ends before Van Ness\n",
    "                   \n",
    "                   (37.718562, -122.426440), # LaGrande -> Dublin St\n",
    "                   (37.747707, -122.387248), # Best guess for Islias Creek St?\n",
    "                   \n",
    "                   (37.734113, -122.379523), # Jennings -> Middlepoint Rd (unclear)?\n",
    "                   (37.721288, -122.448127), # No changes\n",
    "                   \n",
    "                   (37.793043, -122.416116), # Brenham -> Leavenworth?\n",
    "                   (37.730460, -122.460551), # No changes\n",
    "                   \n",
    "                   (37.757690, -122.392347), # No changes\n",
    "                   (37.768121, -122.411724), # Approximate (Alameda ends before Florida)\n",
    "                   \n",
    "                   (37.787690, -122.387976), # Spear St is a pedestrian walkway at the intersection\n",
    "                   (37.718562, -122.426440), # LaGrande -> Dublin St\n",
    "                   \n",
    "                   (37.803124, -122.401270), # In a shopping mall\n",
    "                   (37.766686, -122.506270), # Martin Luther King Jr -> Bernice Rodgers Way\n",
    "                   \n",
    "                   (37.781978, -122.396687) # Very tricky\n",
    "                  ]\n",
    "\n",
    "for address, latlon in zip(bad_addresses, solution_latlon):\n",
    "    train_df.loc[invalid_train_points & (train_df[\"Address\"] == address), [\"Y\", \"X\"]] = latlon\n",
    "    truth_df.loc[invalid_truth_points & (truth_df[\"Address\"] == address), [\"Y\", \"X\"]] = latlon\n",
    "    test_df.loc[invalid_test_points & (test_df[\"Address\"] == address), [\"Y\", \"X\"]] = latlon\n"
   ]
  },
  {
   "cell_type": "code",
   "execution_count": null,
   "metadata": {
    "collapsed": false
   },
   "outputs": [],
   "source": [
    "fig, ax = matplotlib.pyplot.subplots(1,3)\n",
    "\n",
    "ax[0].scatter(train_df[\"X\"], train_df[\"Y\"])\n",
    "ax[1].scatter(truth_df[\"X\"], truth_df[\"Y\"])\n",
    "ax[2].scatter(test_df[\"X\"], test_df[\"Y\"])"
   ]
  },
  {
   "cell_type": "code",
   "execution_count": null,
   "metadata": {
    "collapsed": false
   },
   "outputs": [],
   "source": [
    "# Before matching, round X and Y to 6 decimal places to avoid FP errors.\n",
    "# Note: 6 decimal places lon and lat at this latitude corresponds to ~ 14 cm\n",
    "for df in [train_df, truth_df, test_df]:\n",
    "    df[[\"X\", \"Y\"]] = df[[\"X\", \"Y\"]].apply(lambda x: x.round(6), axis=\"index\")"
   ]
  },
  {
   "cell_type": "code",
   "execution_count": null,
   "metadata": {
    "collapsed": false
   },
   "outputs": [],
   "source": [
    "# There might be differences in address and how the crime was resolved, but not in X or Y anymore\n",
    "merged_train_df = train_df.merge(truth_df,\n",
    "                                 on=[col for col in train_df.columns.tolist() if col not in [\"Address\", \"Resolution\"]],\n",
    "                                 how=\"left\")\n",
    "\n",
    "# 145253 simply is not in the truth set.  Unknown why.\n",
    "merged_train_df[merged_train_df[\"PdId\"].isnull()]"
   ]
  },
  {
   "cell_type": "code",
   "execution_count": null,
   "metadata": {
    "collapsed": false
   },
   "outputs": [],
   "source": [
    "# Match with the test set to label them with the truth\n",
    "merged_test_df = test_df.merge(truth_df,\n",
    "                               on=[col for col in test_df.columns.tolist() if col not in [\"Address\", \"Id\"]],\n",
    "                               how=\"left\",\n",
    "                               )\n",
    "\n",
    "merged_test_df[merged_test_df[\"PdId\"].isnull()]"
   ]
  },
  {
   "cell_type": "code",
   "execution_count": null,
   "metadata": {
    "collapsed": false
   },
   "outputs": [],
   "source": [
    "# Anyway, save cleaned data to use for future training and testing\n",
    "train_df.to_csv(\"processed_data/train_clean.csv\", index=None)\n",
    "test_df.to_csv(\"processed_data/test_clean.csv\", index=\"Id\")\n",
    "truth_df.to_csv(\"processed_data/truth_clean.csv\", index=None, columns=train_df.columns)"
   ]
  },
  {
   "cell_type": "code",
   "execution_count": null,
   "metadata": {
    "collapsed": false
   },
   "outputs": [],
   "source": [
    "# Finally, produce an (almost) correct key for the test set\n",
    "# Note: the ones I can't figure out I am leaving completely blank.\n",
    "key = pandas.get_dummies(merged_test_df[[\"Id\", \"Category\"]], columns=[\"Category\"], prefix=[\"\"], prefix_sep=\"\")\n",
    "key = key.groupby(\"Id\").mean()\n",
    "key.head(10)"
   ]
  },
  {
   "cell_type": "code",
   "execution_count": null,
   "metadata": {
    "collapsed": true
   },
   "outputs": [],
   "source": [
    "key.to_csv(\"processed_data/key.csv\", index=\"Id\")"
   ]
  }
 ],
 "metadata": {
  "kernelspec": {
   "display_name": "Python 3",
   "language": "python",
   "name": "python3"
  },
  "language_info": {
   "codemirror_mode": {
    "name": "ipython",
    "version": 3
   },
   "file_extension": ".py",
   "mimetype": "text/x-python",
   "name": "python",
   "nbconvert_exporter": "python",
   "pygments_lexer": "ipython3",
   "version": "3.4.3"
  }
 },
 "nbformat": 4,
 "nbformat_minor": 0
}
